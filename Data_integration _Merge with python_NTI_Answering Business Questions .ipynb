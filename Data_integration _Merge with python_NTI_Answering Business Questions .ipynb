{
 "cells": [
  {
   "cell_type": "markdown",
   "metadata": {},
   "source": [
    "# Importing Important Libraries"
   ]
  },
  {
   "cell_type": "code",
   "execution_count": 1,
   "metadata": {},
   "outputs": [],
   "source": [
    "import pandas as pd\n",
    "import numpy as np"
   ]
  },
  {
   "cell_type": "markdown",
   "metadata": {},
   "source": [
    "Read Data Files"
   ]
  },
  {
   "cell_type": "code",
   "execution_count": 2,
   "metadata": {},
   "outputs": [
    {
     "data": {
      "text/html": [
       "<div>\n",
       "<style scoped>\n",
       "    .dataframe tbody tr th:only-of-type {\n",
       "        vertical-align: middle;\n",
       "    }\n",
       "\n",
       "    .dataframe tbody tr th {\n",
       "        vertical-align: top;\n",
       "    }\n",
       "\n",
       "    .dataframe thead th {\n",
       "        text-align: right;\n",
       "    }\n",
       "</style>\n",
       "<table border=\"1\" class=\"dataframe\">\n",
       "  <thead>\n",
       "    <tr style=\"text-align: right;\">\n",
       "      <th></th>\n",
       "      <th>Branch_ID</th>\n",
       "      <th>Branch_Name</th>\n",
       "    </tr>\n",
       "  </thead>\n",
       "  <tbody>\n",
       "    <tr>\n",
       "      <th>0</th>\n",
       "      <td>BX</td>\n",
       "      <td>aws</td>\n",
       "    </tr>\n",
       "    <tr>\n",
       "      <th>1</th>\n",
       "      <td>DB</td>\n",
       "      <td>zillow</td>\n",
       "    </tr>\n",
       "    <tr>\n",
       "      <th>2</th>\n",
       "      <td>DL</td>\n",
       "      <td>eve</td>\n",
       "    </tr>\n",
       "    <tr>\n",
       "      <th>3</th>\n",
       "      <td>DN</td>\n",
       "      <td>ps</td>\n",
       "    </tr>\n",
       "    <tr>\n",
       "      <th>4</th>\n",
       "      <td>EA</td>\n",
       "      <td>aliyun</td>\n",
       "    </tr>\n",
       "    <tr>\n",
       "      <th>5</th>\n",
       "      <td>FR</td>\n",
       "      <td>get</td>\n",
       "    </tr>\n",
       "    <tr>\n",
       "      <th>6</th>\n",
       "      <td>GI</td>\n",
       "      <td>region</td>\n",
       "    </tr>\n",
       "    <tr>\n",
       "      <th>7</th>\n",
       "      <td>HU</td>\n",
       "      <td>alibaba</td>\n",
       "    </tr>\n",
       "    <tr>\n",
       "      <th>8</th>\n",
       "      <td>JG</td>\n",
       "      <td>europa</td>\n",
       "    </tr>\n",
       "    <tr>\n",
       "      <th>9</th>\n",
       "      <td>LD</td>\n",
       "      <td>magento</td>\n",
       "    </tr>\n",
       "    <tr>\n",
       "      <th>10</th>\n",
       "      <td>LJ</td>\n",
       "      <td>sp</td>\n",
       "    </tr>\n",
       "    <tr>\n",
       "      <th>11</th>\n",
       "      <td>MA</td>\n",
       "      <td>Maano</td>\n",
       "    </tr>\n",
       "    <tr>\n",
       "      <th>12</th>\n",
       "      <td>OM</td>\n",
       "      <td>Olix</td>\n",
       "    </tr>\n",
       "    <tr>\n",
       "      <th>13</th>\n",
       "      <td>VO</td>\n",
       "      <td>Ovie</td>\n",
       "    </tr>\n",
       "  </tbody>\n",
       "</table>\n",
       "</div>"
      ],
      "text/plain": [
       "   Branch_ID Branch_Name\n",
       "0         BX        aws \n",
       "1         DB      zillow\n",
       "2         DL         eve\n",
       "3         DN          ps\n",
       "4         EA      aliyun\n",
       "5         FR         get\n",
       "6         GI      region\n",
       "7         HU     alibaba\n",
       "8         JG      europa\n",
       "9         LD     magento\n",
       "10        LJ          sp\n",
       "11        MA       Maano\n",
       "12        OM        Olix\n",
       "13        VO        Ovie"
      ]
     },
     "execution_count": 2,
     "metadata": {},
     "output_type": "execute_result"
    }
   ],
   "source": [
    "df1=pd.read_excel('Branches.xlsx')\n",
    "df1"
   ]
  },
  {
   "cell_type": "code",
   "execution_count": 3,
   "metadata": {},
   "outputs": [
    {
     "data": {
      "text/html": [
       "<div>\n",
       "<style scoped>\n",
       "    .dataframe tbody tr th:only-of-type {\n",
       "        vertical-align: middle;\n",
       "    }\n",
       "\n",
       "    .dataframe tbody tr th {\n",
       "        vertical-align: top;\n",
       "    }\n",
       "\n",
       "    .dataframe thead th {\n",
       "        text-align: right;\n",
       "    }\n",
       "</style>\n",
       "<table border=\"1\" class=\"dataframe\">\n",
       "  <thead>\n",
       "    <tr style=\"text-align: right;\">\n",
       "      <th></th>\n",
       "      <th>Invoice Number</th>\n",
       "      <th>Date</th>\n",
       "      <th>Product-ID</th>\n",
       "      <th>Branch ID</th>\n",
       "      <th>Net Sales</th>\n",
       "      <th>Cost</th>\n",
       "    </tr>\n",
       "  </thead>\n",
       "  <tbody>\n",
       "    <tr>\n",
       "      <th>0</th>\n",
       "      <td>659439</td>\n",
       "      <td>2013-01-01</td>\n",
       "      <td>QU-G83911</td>\n",
       "      <td>DN</td>\n",
       "      <td>616.22</td>\n",
       "      <td>295.79</td>\n",
       "    </tr>\n",
       "    <tr>\n",
       "      <th>1</th>\n",
       "      <td>659440</td>\n",
       "      <td>2013-01-02</td>\n",
       "      <td>VE-T83553</td>\n",
       "      <td>GI</td>\n",
       "      <td>56.40</td>\n",
       "      <td>26.51</td>\n",
       "    </tr>\n",
       "    <tr>\n",
       "      <th>2</th>\n",
       "      <td>659440</td>\n",
       "      <td>2013-01-02</td>\n",
       "      <td>CA-G84812</td>\n",
       "      <td>DB</td>\n",
       "      <td>178.75</td>\n",
       "      <td>96.53</td>\n",
       "    </tr>\n",
       "    <tr>\n",
       "      <th>3</th>\n",
       "      <td>659440</td>\n",
       "      <td>2013-01-02</td>\n",
       "      <td>DA-T81656</td>\n",
       "      <td>LJ</td>\n",
       "      <td>391.52</td>\n",
       "      <td>207.51</td>\n",
       "    </tr>\n",
       "    <tr>\n",
       "      <th>4</th>\n",
       "      <td>659441</td>\n",
       "      <td>2013-01-03</td>\n",
       "      <td>QU-G83911</td>\n",
       "      <td>GI</td>\n",
       "      <td>80.24</td>\n",
       "      <td>43.33</td>\n",
       "    </tr>\n",
       "    <tr>\n",
       "      <th>...</th>\n",
       "      <td>...</td>\n",
       "      <td>...</td>\n",
       "      <td>...</td>\n",
       "      <td>...</td>\n",
       "      <td>...</td>\n",
       "      <td>...</td>\n",
       "    </tr>\n",
       "    <tr>\n",
       "      <th>1420</th>\n",
       "      <td>660138</td>\n",
       "      <td>2013-12-31</td>\n",
       "      <td>VE-T83553</td>\n",
       "      <td>DN</td>\n",
       "      <td>22.56</td>\n",
       "      <td>11.05</td>\n",
       "    </tr>\n",
       "    <tr>\n",
       "      <th>1421</th>\n",
       "      <td>660138</td>\n",
       "      <td>2013-12-31</td>\n",
       "      <td>MT-C81287</td>\n",
       "      <td>MA</td>\n",
       "      <td>102.74</td>\n",
       "      <td>48.29</td>\n",
       "    </tr>\n",
       "    <tr>\n",
       "      <th>1422</th>\n",
       "      <td>660138</td>\n",
       "      <td>2013-12-31</td>\n",
       "      <td>CA-G84812</td>\n",
       "      <td>NaN</td>\n",
       "      <td>338.58</td>\n",
       "      <td>176.06</td>\n",
       "    </tr>\n",
       "    <tr>\n",
       "      <th>1423</th>\n",
       "      <td>660138</td>\n",
       "      <td>2013-12-31</td>\n",
       "      <td>VE-T83553</td>\n",
       "      <td>NaN</td>\n",
       "      <td>22.56</td>\n",
       "      <td>11.05</td>\n",
       "    </tr>\n",
       "    <tr>\n",
       "      <th>1424</th>\n",
       "      <td>660138</td>\n",
       "      <td>2013-12-31</td>\n",
       "      <td>MT-C81287</td>\n",
       "      <td>NaN</td>\n",
       "      <td>102.74</td>\n",
       "      <td>48.29</td>\n",
       "    </tr>\n",
       "  </tbody>\n",
       "</table>\n",
       "<p>1425 rows × 6 columns</p>\n",
       "</div>"
      ],
      "text/plain": [
       "      Invoice Number       Date Product-ID Branch ID  Net Sales    Cost\n",
       "0             659439 2013-01-01  QU-G83911        DN     616.22  295.79\n",
       "1             659440 2013-01-02  VE-T83553        GI      56.40   26.51\n",
       "2             659440 2013-01-02  CA-G84812        DB     178.75   96.53\n",
       "3             659440 2013-01-02  DA-T81656        LJ     391.52  207.51\n",
       "4             659441 2013-01-03  QU-G83911        GI      80.24   43.33\n",
       "...              ...        ...        ...       ...        ...     ...\n",
       "1420          660138 2013-12-31  VE-T83553        DN      22.56   11.05\n",
       "1421          660138 2013-12-31  MT-C81287        MA     102.74   48.29\n",
       "1422          660138 2013-12-31  CA-G84812       NaN     338.58  176.06\n",
       "1423          660138 2013-12-31  VE-T83553       NaN      22.56   11.05\n",
       "1424          660138 2013-12-31  MT-C81287       NaN     102.74   48.29\n",
       "\n",
       "[1425 rows x 6 columns]"
      ]
     },
     "execution_count": 3,
     "metadata": {},
     "output_type": "execute_result"
    }
   ],
   "source": [
    "df2=pd.read_excel('TransactionsSourceData1.xlsx')\n",
    "df2"
   ]
  },
  {
   "cell_type": "code",
   "execution_count": 4,
   "metadata": {},
   "outputs": [
    {
     "data": {
      "text/html": [
       "<div>\n",
       "<style scoped>\n",
       "    .dataframe tbody tr th:only-of-type {\n",
       "        vertical-align: middle;\n",
       "    }\n",
       "\n",
       "    .dataframe tbody tr th {\n",
       "        vertical-align: top;\n",
       "    }\n",
       "\n",
       "    .dataframe thead th {\n",
       "        text-align: right;\n",
       "    }\n",
       "</style>\n",
       "<table border=\"1\" class=\"dataframe\">\n",
       "  <thead>\n",
       "    <tr style=\"text-align: right;\">\n",
       "      <th></th>\n",
       "      <th>Invoice Number</th>\n",
       "      <th>Net Sales</th>\n",
       "      <th>Cost</th>\n",
       "    </tr>\n",
       "  </thead>\n",
       "  <tbody>\n",
       "    <tr>\n",
       "      <th>count</th>\n",
       "      <td>1425.000000</td>\n",
       "      <td>1425.000000</td>\n",
       "      <td>1425.000000</td>\n",
       "    </tr>\n",
       "    <tr>\n",
       "      <th>mean</th>\n",
       "      <td>659792.387368</td>\n",
       "      <td>199.211396</td>\n",
       "      <td>101.762267</td>\n",
       "    </tr>\n",
       "    <tr>\n",
       "      <th>std</th>\n",
       "      <td>204.738097</td>\n",
       "      <td>176.773976</td>\n",
       "      <td>90.110446</td>\n",
       "    </tr>\n",
       "    <tr>\n",
       "      <th>min</th>\n",
       "      <td>659439.000000</td>\n",
       "      <td>1.220000</td>\n",
       "      <td>0.570000</td>\n",
       "    </tr>\n",
       "    <tr>\n",
       "      <th>25%</th>\n",
       "      <td>659618.000000</td>\n",
       "      <td>45.000000</td>\n",
       "      <td>23.130000</td>\n",
       "    </tr>\n",
       "    <tr>\n",
       "      <th>50%</th>\n",
       "      <td>659785.000000</td>\n",
       "      <td>152.880000</td>\n",
       "      <td>80.320000</td>\n",
       "    </tr>\n",
       "    <tr>\n",
       "      <th>75%</th>\n",
       "      <td>659975.000000</td>\n",
       "      <td>301.840000</td>\n",
       "      <td>154.460000</td>\n",
       "    </tr>\n",
       "    <tr>\n",
       "      <th>max</th>\n",
       "      <td>660138.000000</td>\n",
       "      <td>900.000000</td>\n",
       "      <td>486.000000</td>\n",
       "    </tr>\n",
       "  </tbody>\n",
       "</table>\n",
       "</div>"
      ],
      "text/plain": [
       "       Invoice Number    Net Sales         Cost\n",
       "count     1425.000000  1425.000000  1425.000000\n",
       "mean    659792.387368   199.211396   101.762267\n",
       "std        204.738097   176.773976    90.110446\n",
       "min     659439.000000     1.220000     0.570000\n",
       "25%     659618.000000    45.000000    23.130000\n",
       "50%     659785.000000   152.880000    80.320000\n",
       "75%     659975.000000   301.840000   154.460000\n",
       "max     660138.000000   900.000000   486.000000"
      ]
     },
     "execution_count": 4,
     "metadata": {},
     "output_type": "execute_result"
    }
   ],
   "source": [
    "df2.describe()"
   ]
  },
  {
   "cell_type": "code",
   "execution_count": 5,
   "metadata": {},
   "outputs": [
    {
     "data": {
      "text/html": [
       "<div>\n",
       "<style scoped>\n",
       "    .dataframe tbody tr th:only-of-type {\n",
       "        vertical-align: middle;\n",
       "    }\n",
       "\n",
       "    .dataframe tbody tr th {\n",
       "        vertical-align: top;\n",
       "    }\n",
       "\n",
       "    .dataframe thead th {\n",
       "        text-align: right;\n",
       "    }\n",
       "</style>\n",
       "<table border=\"1\" class=\"dataframe\">\n",
       "  <thead>\n",
       "    <tr style=\"text-align: right;\">\n",
       "      <th></th>\n",
       "      <th>Product-ID</th>\n",
       "      <th>Branch ID</th>\n",
       "    </tr>\n",
       "  </thead>\n",
       "  <tbody>\n",
       "    <tr>\n",
       "      <th>count</th>\n",
       "      <td>1423</td>\n",
       "      <td>1422</td>\n",
       "    </tr>\n",
       "    <tr>\n",
       "      <th>unique</th>\n",
       "      <td>12</td>\n",
       "      <td>14</td>\n",
       "    </tr>\n",
       "    <tr>\n",
       "      <th>top</th>\n",
       "      <td>FU-T88744</td>\n",
       "      <td>MA</td>\n",
       "    </tr>\n",
       "    <tr>\n",
       "      <th>freq</th>\n",
       "      <td>230</td>\n",
       "      <td>119</td>\n",
       "    </tr>\n",
       "  </tbody>\n",
       "</table>\n",
       "</div>"
      ],
      "text/plain": [
       "       Product-ID Branch ID\n",
       "count        1423      1422\n",
       "unique         12        14\n",
       "top     FU-T88744        MA\n",
       "freq          230       119"
      ]
     },
     "execution_count": 5,
     "metadata": {},
     "output_type": "execute_result"
    }
   ],
   "source": [
    "df2.describe(include='object')"
   ]
  },
  {
   "cell_type": "code",
   "execution_count": 6,
   "metadata": {},
   "outputs": [
    {
     "name": "stdout",
     "output_type": "stream",
     "text": [
      "<class 'pandas.core.frame.DataFrame'>\n",
      "RangeIndex: 14 entries, 0 to 13\n",
      "Data columns (total 2 columns):\n",
      " #   Column       Non-Null Count  Dtype \n",
      "---  ------       --------------  ----- \n",
      " 0   Branch_ID    14 non-null     object\n",
      " 1   Branch_Name  14 non-null     object\n",
      "dtypes: object(2)\n",
      "memory usage: 356.0+ bytes\n"
     ]
    }
   ],
   "source": [
    "df1.info()"
   ]
  },
  {
   "cell_type": "code",
   "execution_count": 7,
   "metadata": {},
   "outputs": [
    {
     "name": "stdout",
     "output_type": "stream",
     "text": [
      "<class 'pandas.core.frame.DataFrame'>\n",
      "RangeIndex: 1425 entries, 0 to 1424\n",
      "Data columns (total 6 columns):\n",
      " #   Column          Non-Null Count  Dtype         \n",
      "---  ------          --------------  -----         \n",
      " 0   Invoice Number  1425 non-null   int64         \n",
      " 1   Date            1425 non-null   datetime64[ns]\n",
      " 2   Product-ID      1423 non-null   object        \n",
      " 3   Branch ID       1422 non-null   object        \n",
      " 4   Net Sales       1425 non-null   float64       \n",
      " 5   Cost            1425 non-null   float64       \n",
      "dtypes: datetime64[ns](1), float64(2), int64(1), object(2)\n",
      "memory usage: 66.9+ KB\n"
     ]
    }
   ],
   "source": [
    "df2.info()"
   ]
  },
  {
   "cell_type": "code",
   "execution_count": 8,
   "metadata": {},
   "outputs": [
    {
     "data": {
      "text/plain": [
       "(14, 2)"
      ]
     },
     "execution_count": 8,
     "metadata": {},
     "output_type": "execute_result"
    }
   ],
   "source": [
    "## branches\n",
    "df1.shape"
   ]
  },
  {
   "cell_type": "code",
   "execution_count": 9,
   "metadata": {},
   "outputs": [
    {
     "data": {
      "text/plain": [
       "<bound method DataFrame.value_counts of    Branch_ID Branch_Name\n",
       "0         BX        aws \n",
       "1         DB      zillow\n",
       "2         DL         eve\n",
       "3         DN          ps\n",
       "4         EA      aliyun\n",
       "5         FR         get\n",
       "6         GI      region\n",
       "7         HU     alibaba\n",
       "8         JG      europa\n",
       "9         LD     magento\n",
       "10        LJ          sp\n",
       "11        MA       Maano\n",
       "12        OM        Olix\n",
       "13        VO        Ovie>"
      ]
     },
     "execution_count": 9,
     "metadata": {},
     "output_type": "execute_result"
    }
   ],
   "source": [
    "df1.value_counts"
   ]
  },
  {
   "cell_type": "code",
   "execution_count": 10,
   "metadata": {},
   "outputs": [
    {
     "data": {
      "text/plain": [
       "14"
      ]
     },
     "execution_count": 10,
     "metadata": {},
     "output_type": "execute_result"
    }
   ],
   "source": [
    "df1.value_counts().count()"
   ]
  },
  {
   "cell_type": "code",
   "execution_count": 11,
   "metadata": {},
   "outputs": [
    {
     "data": {
      "text/plain": [
       "(1425, 6)"
      ]
     },
     "execution_count": 11,
     "metadata": {},
     "output_type": "execute_result"
    }
   ],
   "source": [
    "df2.shape"
   ]
  },
  {
   "cell_type": "code",
   "execution_count": 12,
   "metadata": {},
   "outputs": [
    {
     "data": {
      "text/plain": [
       "28"
      ]
     },
     "execution_count": 12,
     "metadata": {},
     "output_type": "execute_result"
    }
   ],
   "source": [
    "df1.size"
   ]
  },
  {
   "cell_type": "code",
   "execution_count": 13,
   "metadata": {},
   "outputs": [
    {
     "data": {
      "text/plain": [
       "8550"
      ]
     },
     "execution_count": 13,
     "metadata": {},
     "output_type": "execute_result"
    }
   ],
   "source": [
    "df2.size"
   ]
  },
  {
   "cell_type": "code",
   "execution_count": 14,
   "metadata": {},
   "outputs": [
    {
     "data": {
      "text/plain": [
       "Branch_ID      0\n",
       "Branch_Name    0\n",
       "dtype: int64"
      ]
     },
     "execution_count": 14,
     "metadata": {},
     "output_type": "execute_result"
    }
   ],
   "source": [
    "df1.isna().sum()"
   ]
  },
  {
   "cell_type": "code",
   "execution_count": 15,
   "metadata": {},
   "outputs": [
    {
     "data": {
      "text/plain": [
       "Invoice Number    0\n",
       "Date              0\n",
       "Product-ID        2\n",
       "Branch ID         3\n",
       "Net Sales         0\n",
       "Cost              0\n",
       "dtype: int64"
      ]
     },
     "execution_count": 15,
     "metadata": {},
     "output_type": "execute_result"
    }
   ],
   "source": [
    "df2.isna().sum()"
   ]
  },
  {
   "cell_type": "code",
   "execution_count": 16,
   "metadata": {},
   "outputs": [
    {
     "data": {
      "text/plain": [
       "0"
      ]
     },
     "execution_count": 16,
     "metadata": {},
     "output_type": "execute_result"
    }
   ],
   "source": [
    "df1.duplicated().sum()"
   ]
  },
  {
   "cell_type": "code",
   "execution_count": 17,
   "metadata": {},
   "outputs": [
    {
     "data": {
      "text/plain": [
       "1"
      ]
     },
     "execution_count": 17,
     "metadata": {},
     "output_type": "execute_result"
    }
   ],
   "source": [
    "df2.duplicated().sum()"
   ]
  },
  {
   "cell_type": "markdown",
   "metadata": {},
   "source": [
    "# Merge \n"
   ]
  },
  {
   "cell_type": "code",
   "execution_count": 18,
   "metadata": {},
   "outputs": [],
   "source": [
    "# common column name must be the same \n",
    "#--> df1.merge(df2 ,on ='common column' , how='inner' , outer, full)"
   ]
  },
  {
   "cell_type": "code",
   "execution_count": 19,
   "metadata": {},
   "outputs": [],
   "source": [
    "df2=df2.rename(columns={'Branch ID':'Branch_ID'})"
   ]
  },
  {
   "cell_type": "code",
   "execution_count": 20,
   "metadata": {},
   "outputs": [
    {
     "data": {
      "text/html": [
       "<div>\n",
       "<style scoped>\n",
       "    .dataframe tbody tr th:only-of-type {\n",
       "        vertical-align: middle;\n",
       "    }\n",
       "\n",
       "    .dataframe tbody tr th {\n",
       "        vertical-align: top;\n",
       "    }\n",
       "\n",
       "    .dataframe thead th {\n",
       "        text-align: right;\n",
       "    }\n",
       "</style>\n",
       "<table border=\"1\" class=\"dataframe\">\n",
       "  <thead>\n",
       "    <tr style=\"text-align: right;\">\n",
       "      <th></th>\n",
       "      <th>Invoice Number</th>\n",
       "      <th>Date</th>\n",
       "      <th>Product-ID</th>\n",
       "      <th>Branch_ID</th>\n",
       "      <th>Net Sales</th>\n",
       "      <th>Cost</th>\n",
       "    </tr>\n",
       "  </thead>\n",
       "  <tbody>\n",
       "    <tr>\n",
       "      <th>0</th>\n",
       "      <td>659439</td>\n",
       "      <td>2013-01-01</td>\n",
       "      <td>QU-G83911</td>\n",
       "      <td>DN</td>\n",
       "      <td>616.22</td>\n",
       "      <td>295.79</td>\n",
       "    </tr>\n",
       "    <tr>\n",
       "      <th>1</th>\n",
       "      <td>659440</td>\n",
       "      <td>2013-01-02</td>\n",
       "      <td>VE-T83553</td>\n",
       "      <td>GI</td>\n",
       "      <td>56.40</td>\n",
       "      <td>26.51</td>\n",
       "    </tr>\n",
       "    <tr>\n",
       "      <th>2</th>\n",
       "      <td>659440</td>\n",
       "      <td>2013-01-02</td>\n",
       "      <td>CA-G84812</td>\n",
       "      <td>DB</td>\n",
       "      <td>178.75</td>\n",
       "      <td>96.53</td>\n",
       "    </tr>\n",
       "    <tr>\n",
       "      <th>3</th>\n",
       "      <td>659440</td>\n",
       "      <td>2013-01-02</td>\n",
       "      <td>DA-T81656</td>\n",
       "      <td>LJ</td>\n",
       "      <td>391.52</td>\n",
       "      <td>207.51</td>\n",
       "    </tr>\n",
       "    <tr>\n",
       "      <th>4</th>\n",
       "      <td>659441</td>\n",
       "      <td>2013-01-03</td>\n",
       "      <td>QU-G83911</td>\n",
       "      <td>GI</td>\n",
       "      <td>80.24</td>\n",
       "      <td>43.33</td>\n",
       "    </tr>\n",
       "    <tr>\n",
       "      <th>...</th>\n",
       "      <td>...</td>\n",
       "      <td>...</td>\n",
       "      <td>...</td>\n",
       "      <td>...</td>\n",
       "      <td>...</td>\n",
       "      <td>...</td>\n",
       "    </tr>\n",
       "    <tr>\n",
       "      <th>1420</th>\n",
       "      <td>660138</td>\n",
       "      <td>2013-12-31</td>\n",
       "      <td>VE-T83553</td>\n",
       "      <td>DN</td>\n",
       "      <td>22.56</td>\n",
       "      <td>11.05</td>\n",
       "    </tr>\n",
       "    <tr>\n",
       "      <th>1421</th>\n",
       "      <td>660138</td>\n",
       "      <td>2013-12-31</td>\n",
       "      <td>MT-C81287</td>\n",
       "      <td>MA</td>\n",
       "      <td>102.74</td>\n",
       "      <td>48.29</td>\n",
       "    </tr>\n",
       "    <tr>\n",
       "      <th>1422</th>\n",
       "      <td>660138</td>\n",
       "      <td>2013-12-31</td>\n",
       "      <td>CA-G84812</td>\n",
       "      <td>NaN</td>\n",
       "      <td>338.58</td>\n",
       "      <td>176.06</td>\n",
       "    </tr>\n",
       "    <tr>\n",
       "      <th>1423</th>\n",
       "      <td>660138</td>\n",
       "      <td>2013-12-31</td>\n",
       "      <td>VE-T83553</td>\n",
       "      <td>NaN</td>\n",
       "      <td>22.56</td>\n",
       "      <td>11.05</td>\n",
       "    </tr>\n",
       "    <tr>\n",
       "      <th>1424</th>\n",
       "      <td>660138</td>\n",
       "      <td>2013-12-31</td>\n",
       "      <td>MT-C81287</td>\n",
       "      <td>NaN</td>\n",
       "      <td>102.74</td>\n",
       "      <td>48.29</td>\n",
       "    </tr>\n",
       "  </tbody>\n",
       "</table>\n",
       "<p>1425 rows × 6 columns</p>\n",
       "</div>"
      ],
      "text/plain": [
       "      Invoice Number       Date Product-ID Branch_ID  Net Sales    Cost\n",
       "0             659439 2013-01-01  QU-G83911        DN     616.22  295.79\n",
       "1             659440 2013-01-02  VE-T83553        GI      56.40   26.51\n",
       "2             659440 2013-01-02  CA-G84812        DB     178.75   96.53\n",
       "3             659440 2013-01-02  DA-T81656        LJ     391.52  207.51\n",
       "4             659441 2013-01-03  QU-G83911        GI      80.24   43.33\n",
       "...              ...        ...        ...       ...        ...     ...\n",
       "1420          660138 2013-12-31  VE-T83553        DN      22.56   11.05\n",
       "1421          660138 2013-12-31  MT-C81287        MA     102.74   48.29\n",
       "1422          660138 2013-12-31  CA-G84812       NaN     338.58  176.06\n",
       "1423          660138 2013-12-31  VE-T83553       NaN      22.56   11.05\n",
       "1424          660138 2013-12-31  MT-C81287       NaN     102.74   48.29\n",
       "\n",
       "[1425 rows x 6 columns]"
      ]
     },
     "execution_count": 20,
     "metadata": {},
     "output_type": "execute_result"
    }
   ],
   "source": [
    "df2"
   ]
  },
  {
   "cell_type": "code",
   "execution_count": 21,
   "metadata": {},
   "outputs": [
    {
     "data": {
      "text/html": [
       "<div>\n",
       "<style scoped>\n",
       "    .dataframe tbody tr th:only-of-type {\n",
       "        vertical-align: middle;\n",
       "    }\n",
       "\n",
       "    .dataframe tbody tr th {\n",
       "        vertical-align: top;\n",
       "    }\n",
       "\n",
       "    .dataframe thead th {\n",
       "        text-align: right;\n",
       "    }\n",
       "</style>\n",
       "<table border=\"1\" class=\"dataframe\">\n",
       "  <thead>\n",
       "    <tr style=\"text-align: right;\">\n",
       "      <th></th>\n",
       "      <th>Branch_ID</th>\n",
       "      <th>Branch_Name</th>\n",
       "      <th>Invoice Number</th>\n",
       "      <th>Date</th>\n",
       "      <th>Product-ID</th>\n",
       "      <th>Net Sales</th>\n",
       "      <th>Cost</th>\n",
       "    </tr>\n",
       "  </thead>\n",
       "  <tbody>\n",
       "    <tr>\n",
       "      <th>0</th>\n",
       "      <td>BX</td>\n",
       "      <td>aws</td>\n",
       "      <td>659442</td>\n",
       "      <td>2013-01-04</td>\n",
       "      <td>QU-G83911</td>\n",
       "      <td>396.00</td>\n",
       "      <td>209.88</td>\n",
       "    </tr>\n",
       "    <tr>\n",
       "      <th>1</th>\n",
       "      <td>BX</td>\n",
       "      <td>aws</td>\n",
       "      <td>659443</td>\n",
       "      <td>2013-01-05</td>\n",
       "      <td>BE-G88383</td>\n",
       "      <td>251.55</td>\n",
       "      <td>125.78</td>\n",
       "    </tr>\n",
       "    <tr>\n",
       "      <th>2</th>\n",
       "      <td>BX</td>\n",
       "      <td>aws</td>\n",
       "      <td>659446</td>\n",
       "      <td>2013-01-05</td>\n",
       "      <td>QU-G83911</td>\n",
       "      <td>288.00</td>\n",
       "      <td>135.36</td>\n",
       "    </tr>\n",
       "    <tr>\n",
       "      <th>3</th>\n",
       "      <td>BX</td>\n",
       "      <td>aws</td>\n",
       "      <td>659446</td>\n",
       "      <td>2013-01-05</td>\n",
       "      <td>QU-G83911</td>\n",
       "      <td>672.24</td>\n",
       "      <td>315.95</td>\n",
       "    </tr>\n",
       "    <tr>\n",
       "      <th>4</th>\n",
       "      <td>BX</td>\n",
       "      <td>aws</td>\n",
       "      <td>659450</td>\n",
       "      <td>2013-01-08</td>\n",
       "      <td>QU-G83911</td>\n",
       "      <td>481.44</td>\n",
       "      <td>255.16</td>\n",
       "    </tr>\n",
       "    <tr>\n",
       "      <th>...</th>\n",
       "      <td>...</td>\n",
       "      <td>...</td>\n",
       "      <td>...</td>\n",
       "      <td>...</td>\n",
       "      <td>...</td>\n",
       "      <td>...</td>\n",
       "      <td>...</td>\n",
       "    </tr>\n",
       "    <tr>\n",
       "      <th>1417</th>\n",
       "      <td>VO</td>\n",
       "      <td>Ovie</td>\n",
       "      <td>660094</td>\n",
       "      <td>2013-12-12</td>\n",
       "      <td>VE-T83553</td>\n",
       "      <td>173.42</td>\n",
       "      <td>84.98</td>\n",
       "    </tr>\n",
       "    <tr>\n",
       "      <th>1418</th>\n",
       "      <td>VO</td>\n",
       "      <td>Ovie</td>\n",
       "      <td>660111</td>\n",
       "      <td>2013-12-18</td>\n",
       "      <td>CA-G84812</td>\n",
       "      <td>343.75</td>\n",
       "      <td>185.63</td>\n",
       "    </tr>\n",
       "    <tr>\n",
       "      <th>1419</th>\n",
       "      <td>VO</td>\n",
       "      <td>Ovie</td>\n",
       "      <td>660114</td>\n",
       "      <td>2013-12-20</td>\n",
       "      <td>YA-C83103</td>\n",
       "      <td>85.19</td>\n",
       "      <td>44.30</td>\n",
       "    </tr>\n",
       "    <tr>\n",
       "      <th>1420</th>\n",
       "      <td>VO</td>\n",
       "      <td>Ovie</td>\n",
       "      <td>660123</td>\n",
       "      <td>2013-12-25</td>\n",
       "      <td>FU-T88744</td>\n",
       "      <td>30.50</td>\n",
       "      <td>16.47</td>\n",
       "    </tr>\n",
       "    <tr>\n",
       "      <th>1421</th>\n",
       "      <td>VO</td>\n",
       "      <td>Ovie</td>\n",
       "      <td>660137</td>\n",
       "      <td>2013-12-31</td>\n",
       "      <td>NaN</td>\n",
       "      <td>159.83</td>\n",
       "      <td>84.71</td>\n",
       "    </tr>\n",
       "  </tbody>\n",
       "</table>\n",
       "<p>1422 rows × 7 columns</p>\n",
       "</div>"
      ],
      "text/plain": [
       "     Branch_ID Branch_Name  Invoice Number       Date Product-ID  Net Sales  \\\n",
       "0           BX        aws           659442 2013-01-04  QU-G83911     396.00   \n",
       "1           BX        aws           659443 2013-01-05  BE-G88383     251.55   \n",
       "2           BX        aws           659446 2013-01-05  QU-G83911     288.00   \n",
       "3           BX        aws           659446 2013-01-05  QU-G83911     672.24   \n",
       "4           BX        aws           659450 2013-01-08  QU-G83911     481.44   \n",
       "...        ...         ...             ...        ...        ...        ...   \n",
       "1417        VO        Ovie          660094 2013-12-12  VE-T83553     173.42   \n",
       "1418        VO        Ovie          660111 2013-12-18  CA-G84812     343.75   \n",
       "1419        VO        Ovie          660114 2013-12-20  YA-C83103      85.19   \n",
       "1420        VO        Ovie          660123 2013-12-25  FU-T88744      30.50   \n",
       "1421        VO        Ovie          660137 2013-12-31        NaN     159.83   \n",
       "\n",
       "        Cost  \n",
       "0     209.88  \n",
       "1     125.78  \n",
       "2     135.36  \n",
       "3     315.95  \n",
       "4     255.16  \n",
       "...      ...  \n",
       "1417   84.98  \n",
       "1418  185.63  \n",
       "1419   44.30  \n",
       "1420   16.47  \n",
       "1421   84.71  \n",
       "\n",
       "[1422 rows x 7 columns]"
      ]
     },
     "execution_count": 21,
     "metadata": {},
     "output_type": "execute_result"
    }
   ],
   "source": [
    "merged=df1.merge(df2 ,on ='Branch_ID')\n",
    "merged"
   ]
  },
  {
   "cell_type": "code",
   "execution_count": 22,
   "metadata": {},
   "outputs": [
    {
     "data": {
      "text/html": [
       "<div>\n",
       "<style scoped>\n",
       "    .dataframe tbody tr th:only-of-type {\n",
       "        vertical-align: middle;\n",
       "    }\n",
       "\n",
       "    .dataframe tbody tr th {\n",
       "        vertical-align: top;\n",
       "    }\n",
       "\n",
       "    .dataframe thead th {\n",
       "        text-align: right;\n",
       "    }\n",
       "</style>\n",
       "<table border=\"1\" class=\"dataframe\">\n",
       "  <thead>\n",
       "    <tr style=\"text-align: right;\">\n",
       "      <th></th>\n",
       "      <th>Branch_ID</th>\n",
       "      <th>Branch_Name</th>\n",
       "      <th>Invoice Number</th>\n",
       "      <th>Date</th>\n",
       "      <th>Product-ID</th>\n",
       "      <th>Net Sales</th>\n",
       "      <th>Cost</th>\n",
       "    </tr>\n",
       "  </thead>\n",
       "  <tbody>\n",
       "    <tr>\n",
       "      <th>0</th>\n",
       "      <td>BX</td>\n",
       "      <td>aws</td>\n",
       "      <td>659442</td>\n",
       "      <td>2013-01-04</td>\n",
       "      <td>QU-G83911</td>\n",
       "      <td>396.00</td>\n",
       "      <td>209.88</td>\n",
       "    </tr>\n",
       "    <tr>\n",
       "      <th>1</th>\n",
       "      <td>BX</td>\n",
       "      <td>aws</td>\n",
       "      <td>659443</td>\n",
       "      <td>2013-01-05</td>\n",
       "      <td>BE-G88383</td>\n",
       "      <td>251.55</td>\n",
       "      <td>125.78</td>\n",
       "    </tr>\n",
       "    <tr>\n",
       "      <th>2</th>\n",
       "      <td>BX</td>\n",
       "      <td>aws</td>\n",
       "      <td>659446</td>\n",
       "      <td>2013-01-05</td>\n",
       "      <td>QU-G83911</td>\n",
       "      <td>288.00</td>\n",
       "      <td>135.36</td>\n",
       "    </tr>\n",
       "    <tr>\n",
       "      <th>3</th>\n",
       "      <td>BX</td>\n",
       "      <td>aws</td>\n",
       "      <td>659446</td>\n",
       "      <td>2013-01-05</td>\n",
       "      <td>QU-G83911</td>\n",
       "      <td>672.24</td>\n",
       "      <td>315.95</td>\n",
       "    </tr>\n",
       "    <tr>\n",
       "      <th>4</th>\n",
       "      <td>BX</td>\n",
       "      <td>aws</td>\n",
       "      <td>659450</td>\n",
       "      <td>2013-01-08</td>\n",
       "      <td>QU-G83911</td>\n",
       "      <td>481.44</td>\n",
       "      <td>255.16</td>\n",
       "    </tr>\n",
       "    <tr>\n",
       "      <th>...</th>\n",
       "      <td>...</td>\n",
       "      <td>...</td>\n",
       "      <td>...</td>\n",
       "      <td>...</td>\n",
       "      <td>...</td>\n",
       "      <td>...</td>\n",
       "      <td>...</td>\n",
       "    </tr>\n",
       "    <tr>\n",
       "      <th>1417</th>\n",
       "      <td>VO</td>\n",
       "      <td>Ovie</td>\n",
       "      <td>660094</td>\n",
       "      <td>2013-12-12</td>\n",
       "      <td>VE-T83553</td>\n",
       "      <td>173.42</td>\n",
       "      <td>84.98</td>\n",
       "    </tr>\n",
       "    <tr>\n",
       "      <th>1418</th>\n",
       "      <td>VO</td>\n",
       "      <td>Ovie</td>\n",
       "      <td>660111</td>\n",
       "      <td>2013-12-18</td>\n",
       "      <td>CA-G84812</td>\n",
       "      <td>343.75</td>\n",
       "      <td>185.63</td>\n",
       "    </tr>\n",
       "    <tr>\n",
       "      <th>1419</th>\n",
       "      <td>VO</td>\n",
       "      <td>Ovie</td>\n",
       "      <td>660114</td>\n",
       "      <td>2013-12-20</td>\n",
       "      <td>YA-C83103</td>\n",
       "      <td>85.19</td>\n",
       "      <td>44.30</td>\n",
       "    </tr>\n",
       "    <tr>\n",
       "      <th>1420</th>\n",
       "      <td>VO</td>\n",
       "      <td>Ovie</td>\n",
       "      <td>660123</td>\n",
       "      <td>2013-12-25</td>\n",
       "      <td>FU-T88744</td>\n",
       "      <td>30.50</td>\n",
       "      <td>16.47</td>\n",
       "    </tr>\n",
       "    <tr>\n",
       "      <th>1421</th>\n",
       "      <td>VO</td>\n",
       "      <td>Ovie</td>\n",
       "      <td>660137</td>\n",
       "      <td>2013-12-31</td>\n",
       "      <td>NaN</td>\n",
       "      <td>159.83</td>\n",
       "      <td>84.71</td>\n",
       "    </tr>\n",
       "  </tbody>\n",
       "</table>\n",
       "<p>1422 rows × 7 columns</p>\n",
       "</div>"
      ],
      "text/plain": [
       "     Branch_ID Branch_Name  Invoice Number       Date Product-ID  Net Sales  \\\n",
       "0           BX        aws           659442 2013-01-04  QU-G83911     396.00   \n",
       "1           BX        aws           659443 2013-01-05  BE-G88383     251.55   \n",
       "2           BX        aws           659446 2013-01-05  QU-G83911     288.00   \n",
       "3           BX        aws           659446 2013-01-05  QU-G83911     672.24   \n",
       "4           BX        aws           659450 2013-01-08  QU-G83911     481.44   \n",
       "...        ...         ...             ...        ...        ...        ...   \n",
       "1417        VO        Ovie          660094 2013-12-12  VE-T83553     173.42   \n",
       "1418        VO        Ovie          660111 2013-12-18  CA-G84812     343.75   \n",
       "1419        VO        Ovie          660114 2013-12-20  YA-C83103      85.19   \n",
       "1420        VO        Ovie          660123 2013-12-25  FU-T88744      30.50   \n",
       "1421        VO        Ovie          660137 2013-12-31        NaN     159.83   \n",
       "\n",
       "        Cost  \n",
       "0     209.88  \n",
       "1     125.78  \n",
       "2     135.36  \n",
       "3     315.95  \n",
       "4     255.16  \n",
       "...      ...  \n",
       "1417   84.98  \n",
       "1418  185.63  \n",
       "1419   44.30  \n",
       "1420   16.47  \n",
       "1421   84.71  \n",
       "\n",
       "[1422 rows x 7 columns]"
      ]
     },
     "execution_count": 22,
     "metadata": {},
     "output_type": "execute_result"
    }
   ],
   "source": [
    "merged"
   ]
  },
  {
   "cell_type": "code",
   "execution_count": 23,
   "metadata": {},
   "outputs": [],
   "source": [
    "merged['Profit']=merged['Net Sales']-merged['Cost']"
   ]
  },
  {
   "cell_type": "code",
   "execution_count": 24,
   "metadata": {},
   "outputs": [
    {
     "data": {
      "text/plain": [
       "Index(['Branch_ID', 'Branch_Name', 'Invoice Number', 'Date', 'Product-ID',\n",
       "       'Net Sales', 'Cost', 'Profit'],\n",
       "      dtype='object')"
      ]
     },
     "execution_count": 24,
     "metadata": {},
     "output_type": "execute_result"
    }
   ],
   "source": [
    "merged.columns"
   ]
  },
  {
   "cell_type": "code",
   "execution_count": 25,
   "metadata": {},
   "outputs": [],
   "source": [
    "merged['Branch_Name']=merged['Branch_Name'].str.upper()"
   ]
  },
  {
   "cell_type": "markdown",
   "metadata": {},
   "source": [
    "# Business Querstions \n"
   ]
  },
  {
   "cell_type": "code",
   "execution_count": 27,
   "metadata": {},
   "outputs": [
    {
     "data": {
      "text/plain": [
       "Branch_Name\n",
       "ALIBABA    12539.19\n",
       "ALIYUN      8564.05\n",
       "AWS        12241.66\n",
       "EUROPA     10285.21\n",
       "EVE         9195.71\n",
       "GET         9589.53\n",
       "MAANO      10104.11\n",
       "MAGENTO    10569.41\n",
       "OLIX       10040.07\n",
       "OVIE        8745.83\n",
       "PS          8595.78\n",
       "REGION     10513.21\n",
       "SP          9491.59\n",
       "ZILLOW      8161.18\n",
       "Name: Profit, dtype: float64"
      ]
     },
     "execution_count": 27,
     "metadata": {},
     "output_type": "execute_result"
    }
   ],
   "source": [
    "merged.groupby(['Branch_Name'])['Profit'].sum()\n"
   ]
  },
  {
   "cell_type": "code",
   "execution_count": 28,
   "metadata": {},
   "outputs": [],
   "source": [
    "#products"
   ]
  },
  {
   "cell_type": "code",
   "execution_count": 29,
   "metadata": {},
   "outputs": [
    {
     "data": {
      "text/plain": [
       "FU-T88744    230\n",
       "QU-G83911    210\n",
       "YA-C83103    207\n",
       "VE-T83553    139\n",
       "CA-G84812    134\n",
       "AS-C89526    132\n",
       "BE-G88383     84\n",
       "CR-C83971     69\n",
       "DA-T81656     68\n",
       "FA-T82068     59\n",
       "MT-C81287     47\n",
       "SU-G81548     41\n",
       "Name: Product-ID, dtype: int64"
      ]
     },
     "execution_count": 29,
     "metadata": {},
     "output_type": "execute_result"
    }
   ],
   "source": [
    "merged['Product-ID'].value_counts()"
   ]
  },
  {
   "cell_type": "code",
   "execution_count": 30,
   "metadata": {},
   "outputs": [
    {
     "data": {
      "text/plain": [
       "12"
      ]
     },
     "execution_count": 30,
     "metadata": {},
     "output_type": "execute_result"
    }
   ],
   "source": [
    "#Total products\n",
    "merged['Product-ID'].value_counts().count()"
   ]
  },
  {
   "cell_type": "code",
   "execution_count": 31,
   "metadata": {},
   "outputs": [
    {
     "data": {
      "text/plain": [
       "Product-ID\n",
       "AS-C89526    21279.36\n",
       "BE-G88383    22863.18\n",
       "CA-G84812    29111.17\n",
       "CR-C83971    17371.14\n",
       "DA-T81656    22785.71\n",
       "FA-T82068    17826.62\n",
       "FU-T88744     4618.04\n",
       "MT-C81287     5403.57\n",
       "QU-G83911    76736.56\n",
       "SU-G81548    10504.49\n",
       "VE-T83553    13852.22\n",
       "YA-C83103    40774.47\n",
       "Name: Net Sales, dtype: float64"
      ]
     },
     "execution_count": 31,
     "metadata": {},
     "output_type": "execute_result"
    }
   ],
   "source": [
    "#Total sales by products\n",
    "merged.groupby(['Product-ID'])['Net Sales'].sum()"
   ]
  },
  {
   "cell_type": "code",
   "execution_count": null,
   "metadata": {},
   "outputs": [],
   "source": []
  },
  {
   "cell_type": "code",
   "execution_count": 32,
   "metadata": {},
   "outputs": [
    {
     "data": {
      "text/plain": [
       "Index(['Branch_ID', 'Branch_Name', 'Invoice Number', 'Date', 'Product-ID',\n",
       "       'Net Sales', 'Cost', 'Profit'],\n",
       "      dtype='object')"
      ]
     },
     "execution_count": 32,
     "metadata": {},
     "output_type": "execute_result"
    }
   ],
   "source": [
    "merged.columns"
   ]
  },
  {
   "cell_type": "code",
   "execution_count": 33,
   "metadata": {},
   "outputs": [
    {
     "data": {
      "text/plain": [
       "Branch_Name\n",
       "ALIBABA    110\n",
       "ALIYUN      97\n",
       "AWS        107\n",
       "EUROPA     105\n",
       "EVE         97\n",
       "GET        100\n",
       "MAANO      119\n",
       "MAGENTO    109\n",
       "OLIX       106\n",
       "OVIE       101\n",
       "PS          90\n",
       "REGION      98\n",
       "SP         102\n",
       "ZILLOW      81\n",
       "Name: Invoice Number, dtype: int64"
      ]
     },
     "execution_count": 33,
     "metadata": {},
     "output_type": "execute_result"
    }
   ],
   "source": [
    "#Total orders by branch name\n",
    "merged.groupby(['Branch_Name'])['Invoice Number'].count()"
   ]
  },
  {
   "cell_type": "code",
   "execution_count": 34,
   "metadata": {},
   "outputs": [
    {
     "data": {
      "text/plain": [
       "FU-T88744    230\n",
       "QU-G83911    210\n",
       "YA-C83103    207\n",
       "VE-T83553    139\n",
       "CA-G84812    134\n",
       "Name: Product-ID, dtype: int64"
      ]
     },
     "execution_count": 34,
     "metadata": {},
     "output_type": "execute_result"
    }
   ],
   "source": [
    "#top 5 products\n",
    "merged['Product-ID'].value_counts().head(5)\n"
   ]
  },
  {
   "cell_type": "code",
   "execution_count": 35,
   "metadata": {},
   "outputs": [
    {
     "data": {
      "text/plain": [
       "CR-C83971    69\n",
       "DA-T81656    68\n",
       "FA-T82068    59\n",
       "MT-C81287    47\n",
       "SU-G81548    41\n",
       "Name: Product-ID, dtype: int64"
      ]
     },
     "execution_count": 35,
     "metadata": {},
     "output_type": "execute_result"
    }
   ],
   "source": [
    "#bottom 5\n",
    "merged['Product-ID'].value_counts().tail(5)\n"
   ]
  },
  {
   "cell_type": "code",
   "execution_count": 36,
   "metadata": {},
   "outputs": [
    {
     "data": {
      "text/plain": [
       "Branch_Name\n",
       "ALIBABA    12539.19\n",
       "ALIYUN      8564.05\n",
       "AWS        12241.66\n",
       "EUROPA     10285.21\n",
       "EVE         9195.71\n",
       "GET         9589.53\n",
       "MAANO      10104.11\n",
       "MAGENTO    10569.41\n",
       "OLIX       10040.07\n",
       "OVIE        8745.83\n",
       "PS          8595.78\n",
       "REGION     10513.21\n",
       "SP          9491.59\n",
       "ZILLOW      8161.18\n",
       "Name: Profit, dtype: float64"
      ]
     },
     "execution_count": 36,
     "metadata": {},
     "output_type": "execute_result"
    }
   ],
   "source": [
    "#top branch by profit \n",
    "top=merged.groupby(['Branch_Name'])['Profit'].sum()\n",
    "top"
   ]
  },
  {
   "cell_type": "code",
   "execution_count": 37,
   "metadata": {},
   "outputs": [
    {
     "data": {
      "text/plain": [
       "Branch_Name\n",
       "ALIBABA    12539.19\n",
       "Name: Profit, dtype: float64"
      ]
     },
     "execution_count": 37,
     "metadata": {},
     "output_type": "execute_result"
    }
   ],
   "source": [
    "top.head(1)"
   ]
  },
  {
   "cell_type": "code",
   "execution_count": 38,
   "metadata": {},
   "outputs": [
    {
     "data": {
      "text/plain": [
       "Branch_Name  Product-ID\n",
       "ALIBABA      AS-C89526     4618455\n",
       "             BE-G88383     5937965\n",
       "             CA-G84812     9236716\n",
       "             CR-C83971     1319603\n",
       "             DA-T81656     3958885\n",
       "                            ...   \n",
       "ZILLOW       MT-C81287      659851\n",
       "             QU-G83911     9897696\n",
       "             SU-G81548     3298581\n",
       "             VE-T83553     3959081\n",
       "             YA-C83103     8576945\n",
       "Name: Invoice Number, Length: 167, dtype: int64"
      ]
     },
     "execution_count": 38,
     "metadata": {},
     "output_type": "execute_result"
    }
   ],
   "source": [
    "#Total orders by branch and product \n",
    "p=merged.groupby(['Branch_Name','Product-ID'])['Invoice Number'].sum()\n",
    "p"
   ]
  },
  {
   "cell_type": "code",
   "execution_count": 39,
   "metadata": {},
   "outputs": [
    {
     "data": {
      "text/plain": [
       "700"
      ]
     },
     "execution_count": 39,
     "metadata": {},
     "output_type": "execute_result"
    }
   ],
   "source": [
    "# Total invoices \n",
    "merged['Invoice Number'].value_counts().count()"
   ]
  },
  {
   "cell_type": "code",
   "execution_count": 40,
   "metadata": {},
   "outputs": [
    {
     "data": {
      "text/plain": [
       "283412.36"
      ]
     },
     "execution_count": 40,
     "metadata": {},
     "output_type": "execute_result"
    }
   ],
   "source": [
    "# total , avg , max , min of (sales) \n",
    "merged['Net Sales'].sum()"
   ]
  },
  {
   "cell_type": "code",
   "execution_count": 41,
   "metadata": {},
   "outputs": [
    {
     "data": {
      "text/plain": [
       "199.30545710267228"
      ]
     },
     "execution_count": 41,
     "metadata": {},
     "output_type": "execute_result"
    }
   ],
   "source": [
    "merged['Net Sales'].mean()"
   ]
  },
  {
   "cell_type": "code",
   "execution_count": 42,
   "metadata": {},
   "outputs": [
    {
     "data": {
      "text/plain": [
       "900.0"
      ]
     },
     "execution_count": 42,
     "metadata": {},
     "output_type": "execute_result"
    }
   ],
   "source": [
    "merged['Net Sales'].max()"
   ]
  },
  {
   "cell_type": "code",
   "execution_count": 43,
   "metadata": {},
   "outputs": [
    {
     "data": {
      "text/plain": [
       "1.22"
      ]
     },
     "execution_count": 43,
     "metadata": {},
     "output_type": "execute_result"
    }
   ],
   "source": [
    "merged['Net Sales'].min()"
   ]
  }
 ],
 "metadata": {
  "kernelspec": {
   "display_name": "Python 3 (ipykernel)",
   "language": "python",
   "name": "python3"
  },
  "language_info": {
   "codemirror_mode": {
    "name": "ipython",
    "version": 3
   },
   "file_extension": ".py",
   "mimetype": "text/x-python",
   "name": "python",
   "nbconvert_exporter": "python",
   "pygments_lexer": "ipython3",
   "version": "3.11.4"
  }
 },
 "nbformat": 4,
 "nbformat_minor": 4
}
